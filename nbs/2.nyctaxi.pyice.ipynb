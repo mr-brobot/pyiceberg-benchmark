{
 "cells": [
  {
   "cell_type": "code",
   "execution_count": 1,
   "metadata": {},
   "outputs": [
    {
     "name": "stdout",
     "output_type": "stream",
     "text": [
      "owner = spark\n",
      "write.metadata.metrics.default = full\n",
      "write.parquet.compression-codec = snappy\n"
     ]
    }
   ],
   "source": [
    "from pyiceberg.catalog.glue import GlueCatalog\n",
    "\n",
    "catalog = GlueCatalog(\"cloudbend\")\n",
    "\n",
    "table = catalog.load_table(\"benchmark.nyc_taxi\")\n",
    "\n",
    "for k, v in table.properties.items():\n",
    "    print(f\"{k} = {v}\")"
   ]
  },
  {
   "cell_type": "code",
   "execution_count": 2,
   "metadata": {},
   "outputs": [
    {
     "name": "stdout",
     "output_type": "stream",
     "text": [
      "snapshot_id='8826473299804589585' timestamp_ms=1690376249834\n"
     ]
    }
   ],
   "source": [
    "for entry in table.history():\n",
    "    print(entry)"
   ]
  },
  {
   "cell_type": "code",
   "execution_count": 3,
   "metadata": {},
   "outputs": [
    {
     "name": "stdout",
     "output_type": "stream",
     "text": [
      "ManifestContent.DATA\n"
     ]
    }
   ],
   "source": [
    "snapshot = table.current_snapshot()\n",
    "\n",
    "for manifest in snapshot.manifests(table.io):\n",
    "    print(manifest.content)"
   ]
  },
  {
   "cell_type": "code",
   "execution_count": 4,
   "metadata": {},
   "outputs": [
    {
     "ename": "",
     "evalue": "",
     "output_type": "error",
     "traceback": [
      "\u001b[1;31mCannot execute code, session has been disposed. Please try restarting the Kernel."
     ]
    },
    {
     "ename": "",
     "evalue": "",
     "output_type": "error",
     "traceback": [
      "\u001b[1;31mThe Kernel crashed while executing code in the the current cell or a previous cell. Please review the code in the cell(s) to identify a possible cause of the failure. Click <a href='https://aka.ms/vscodeJupyterKernelCrash'>here</a> for more info. View Jupyter <a href='command:jupyter.viewOutput'>log</a> for further details."
     ]
    }
   ],
   "source": [
    "import yappi\n",
    "\n",
    "yappi.start()\n",
    "\n",
    "result = (\n",
    "    table.scan(limit=10)\n",
    "        .to_arrow()\n",
    ")\n",
    "\n",
    "yappi.stop()\n",
    "\n",
    "for record in result.to_pylist():\n",
    "    print(record)"
   ]
  }
 ],
 "metadata": {
  "kernelspec": {
   "display_name": "Python 3",
   "language": "python",
   "name": "python3"
  },
  "language_info": {
   "codemirror_mode": {
    "name": "ipython",
    "version": 3
   },
   "file_extension": ".py",
   "mimetype": "text/x-python",
   "name": "python",
   "nbconvert_exporter": "python",
   "pygments_lexer": "ipython3",
   "version": "3.10.12"
  },
  "orig_nbformat": 4
 },
 "nbformat": 4,
 "nbformat_minor": 2
}
