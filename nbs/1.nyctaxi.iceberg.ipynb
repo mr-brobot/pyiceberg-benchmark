{
 "cells": [
  {
   "cell_type": "code",
   "execution_count": 10,
   "metadata": {
    "vscode": {
     "languageId": "python"
    }
   },
   "outputs": [
    {
     "name": "stdout",
     "output_type": "stream",
     "text": [
      "Previous profile: None\n",
      "Setting new profile to: cloudbend\n",
      "Setting Glue version to: 3.0\n",
      "Current iam_role is None\n",
      "iam_role has been set to arn:aws:iam::898546127587:role/GlueSessions.\n",
      "Current idle_timeout is 2880 minutes.\n",
      "idle_timeout has been set to 120 minutes.\n",
      "Previous worker type: G.1X\n",
      "Setting new worker type to: G.2X\n",
      "Previous number of workers: 5\n",
      "Setting new number of workers to: 16\n",
      "Extra jars to be included:\n",
      "s3://lambdaicebergdemo-icebergbucket89dd3fa6-fyq2q519smob/jars/iceberg/iceberg-spark-runtime-3.0_2.12-1.0.0.jar\n",
      "s3://lambdaicebergdemo-icebergbucket89dd3fa6-fyq2q519smob/jars/aws/bundle-2.17.257.jar\n",
      "s3://lambdaicebergdemo-icebergbucket89dd3fa6-fyq2q519smob/jars/aws/url-connection-client-2.17.257.jar\n",
      "s3://lambdaicebergdemo-icebergbucket89dd3fa6-fyq2q519smob/jars/iceberg/iceberg-spark-runtime-3.0_2.12-1.0.0.jar,s3://lambdaicebergdemo-icebergbucket89dd3fa6-fyq2q519smob/jars/aws/bundle-2.17.257.jar,s3://lambdaicebergdemo-icebergbucket89dd3fa6-fyq2q519smob/jars/aws/url-connection-client-2.17.257.jar\n"
     ]
    }
   ],
   "source": [
    "%profile \"cloudbend\"\n",
    "\n",
    "%glue_version \"3.0\"\n",
    "%iam_role \"arn:aws:iam::898546127587:role/GlueSessions\"\n",
    "%idle_timeout 120\n",
    "\n",
    "%worker_type \"G.2X\"\n",
    "%number_of_workers 16\n",
    "\n",
    "%extra_jars \"s3://lambdaicebergdemo-icebergbucket89dd3fa6-fyq2q519smob/jars/iceberg/iceberg-spark-runtime-3.0_2.12-1.0.0.jar,s3://lambdaicebergdemo-icebergbucket89dd3fa6-fyq2q519smob/jars/aws/bundle-2.17.257.jar,s3://lambdaicebergdemo-icebergbucket89dd3fa6-fyq2q519smob/jars/aws/url-connection-client-2.17.257.jar\""
   ]
  },
  {
   "cell_type": "code",
   "execution_count": 12,
   "metadata": {
    "vscode": {
     "languageId": "python"
    }
   },
   "outputs": [
    {
     "name": "stderr",
     "output_type": "stream",
     "text": [
      "You are already connected to a glueetl session 735002b1-1aeb-4ee5-9600-0cface75fdf2.\n",
      "\n",
      "No change will be made to the current session that is set as glueetl. The session configuration change will apply to newly created sessions.\n"
     ]
    },
    {
     "name": "stdout",
     "output_type": "stream",
     "text": [
      "The following configurations have been updated: {'conf': 'spark.jars.packages=org.apache.iceberg:iceberg-spark-runtime-3.0_2.12-1.0.0,software.amazon.awssdk:bundle:2.17.257,software.amazon.awssdk:url-connection-client:2.17.257 --conf spark.sql.extensions=org.apache.iceberg.spark.extensions.IcebergSparkSessionExtensions'}\n"
     ]
    }
   ],
   "source": [
    "%%configure\n",
    "{\n",
    "    \"conf\": \"spark.jars.packages=org.apache.iceberg:iceberg-spark-runtime-3.0_2.12-1.0.0,software.amazon.awssdk:bundle:2.17.257,software.amazon.awssdk:url-connection-client:2.17.257 --conf spark.sql.extensions=org.apache.iceberg.spark.extensions.IcebergSparkSessionExtensions\"\n",
    "}"
   ]
  },
  {
   "cell_type": "code",
   "execution_count": 2,
   "metadata": {
    "vscode": {
     "languageId": "python"
    }
   },
   "outputs": [
    {
     "name": "stdout",
     "output_type": "stream",
     "text": [
      "\n"
     ]
    }
   ],
   "source": [
    "from pyspark.sql import SparkSession\n",
    "\n",
    "spark = SparkSession.getActiveSession()"
   ]
  },
  {
   "cell_type": "code",
   "execution_count": 3,
   "metadata": {
    "vscode": {
     "languageId": "python"
    }
   },
   "outputs": [
    {
     "name": "stdout",
     "output_type": "stream",
     "text": [
      "\n"
     ]
    }
   ],
   "source": [
    "catalog = \"iceberg\"\n",
    "bucket = \"pyicebergbenchmark-icebergbucket89dd3fa6-1qhkzajoxgpzo\"\n",
    "prefix = \"iceberg\"\n",
    "\n",
    "iceberg_conf = [\n",
    "    (f\"spark.sql.catalog.{catalog}\", \"org.apache.iceberg.spark.SparkCatalog\"),\n",
    "    (f\"spark.sql.catalog.{catalog}.warehouse\", f\"s3://{bucket}/{prefix}/{catalog}/\"),\n",
    "    (f\"spark.sql.catalog.{catalog}.catalog-impl\", \"org.apache.iceberg.aws.glue.GlueCatalog\"),\n",
    "    (f\"spark.sql.catalog.{catalog}.io-impl\", \"org.apache.iceberg.aws.s3.S3FileIO\"),\n",
    "]\n",
    "\n",
    "for k, v in iceberg_conf:\n",
    "    spark.conf.set(k, v)"
   ]
  },
  {
   "cell_type": "code",
   "execution_count": 6,
   "metadata": {
    "vscode": {
     "languageId": "python"
    }
   },
   "outputs": [
    {
     "name": "stdout",
     "output_type": "stream",
     "text": [
      "3318228997\n"
     ]
    }
   ],
   "source": [
    "df = (\n",
    "    spark.read\n",
    "        .option(\"mergeSchema\", \"true\")\n",
    "        .parquet(f\"s3://{bucket}/raw/*/\")\n",
    ")\n",
    "\n",
    "df.count()"
   ]
  },
  {
   "cell_type": "code",
   "execution_count": 7,
   "metadata": {
    "vscode": {
     "languageId": "python"
    }
   },
   "outputs": [
    {
     "name": "stdout",
     "output_type": "stream",
     "text": [
      "1693491462\n"
     ]
    }
   ],
   "source": [
    "from pyspark.sql.functions import col\n",
    "\n",
    "df = df.filter(col(\"pickup_datetime\").isNotNull())\n",
    "\n",
    "df.count()"
   ]
  },
  {
   "cell_type": "code",
   "execution_count": 8,
   "metadata": {
    "vscode": {
     "languageId": "python"
    }
   },
   "outputs": [
    {
     "name": "stdout",
     "output_type": "stream",
     "text": [
      "\n"
     ]
    }
   ],
   "source": [
    "df.createOrReplaceTempView(\"nyc_taxi\")"
   ]
  },
  {
   "cell_type": "code",
   "execution_count": 9,
   "metadata": {
    "vscode": {
     "languageId": "sql"
    }
   },
   "outputs": [
    {
     "name": "stdout",
     "output_type": "stream",
     "text": [
      "++\n",
      "||\n",
      "++\n",
      "++\n"
     ]
    }
   ],
   "source": [
    "%%sql\n",
    "\n",
    "CREATE DATABASE IF NOT EXISTS iceberg.benchmark;"
   ]
  },
  {
   "cell_type": "code",
   "execution_count": 16,
   "metadata": {
    "vscode": {
     "languageId": "sql"
    }
   },
   "outputs": [
    {
     "name": "stdout",
     "output_type": "stream",
     "text": [
      "++\n",
      "||\n",
      "++\n",
      "++\n"
     ]
    }
   ],
   "source": [
    "%%sql\n",
    "\n",
    "CREATE TABLE iceberg.benchmark.nyc_taxi\n",
    "USING iceberg\n",
    "PARTITIONED BY (months(pickup_datetime))\n",
    "TBLPROPERTIES (\n",
    "    'format-version' = '2',\n",
    "    'write.parquet.compression-codec' = 'snappy',\n",
    "    'write.metadata.metrics.default' = 'full'\n",
    ")\n",
    "AS\n",
    "SELECT *\n",
    "FROM nyc_taxi\n",
    "ORDER BY pickup_datetime;"
   ]
  },
  {
   "cell_type": "code",
   "execution_count": 18,
   "metadata": {
    "vscode": {
     "languageId": "sql"
    }
   },
   "outputs": [
    {
     "name": "stdout",
     "output_type": "stream",
     "text": [
      "ParseException: \n",
      "no viable alternative at input 'ALTER TABLE iceberg.benchmark.nyc_taxi WRITE'(line 2, pos 39)\n",
      "\n",
      "== SQL ==\n",
      "\n",
      "ALTER TABLE iceberg.benchmark.nyc_taxi WRITE ORDERED BY pickup_datetime;\n",
      "---------------------------------------^^^\n",
      "\n"
     ]
    }
   ],
   "source": [
    "%%sql\n",
    "\n",
    "ALTER TABLE iceberg.benchmark.nyc_taxi WRITE ORDERED BY pickup_datetime;"
   ]
  },
  {
   "cell_type": "code",
   "execution_count": 19,
   "metadata": {
    "vscode": {
     "languageId": "sql"
    }
   },
   "outputs": [
    {
     "name": "stdout",
     "output_type": "stream",
     "text": [
      "+-------------------+-------------------+\n",
      "|              lower|              upper|\n",
      "+-------------------+-------------------+\n",
      "|2010-01-01 00:00:00|2023-04-30 23:59:59|\n",
      "+-------------------+-------------------+\n"
     ]
    }
   ],
   "source": [
    "%%sql\n",
    "\n",
    "SELECT\n",
    "    MIN(pickup_datetime) AS lower,\n",
    "    MAX(pickup_datetime) AS upper\n",
    "FROM iceberg.benchmark.nyc_taxi;"
   ]
  },
  {
   "cell_type": "code",
   "execution_count": 24,
   "metadata": {
    "vscode": {
     "languageId": "sql"
    }
   },
   "outputs": [
    {
     "name": "stdout",
     "output_type": "stream",
     "text": [
      "+-----------+\n",
      "|total_files|\n",
      "+-----------+\n",
      "|        230|\n",
      "+-----------+\n"
     ]
    }
   ],
   "source": [
    "%%sql\n",
    "\n",
    "SELECT COUNT(*) AS total_files\n",
    "FROM iceberg.benchmark.nyc_taxi.files;"
   ]
  },
  {
   "cell_type": "code",
   "execution_count": 29,
   "metadata": {
    "vscode": {
     "languageId": "sql"
    }
   },
   "outputs": [
    {
     "name": "stdout",
     "output_type": "stream",
     "text": [
      "+-------+--------------------+-----------+-------+---------+------------+------------------+--------------------+--------------------+--------------------+--------------------+--------------------+--------------------+------------+--------------------+------------+-------------+\n",
      "|content|           file_path|file_format|spec_id|partition|record_count|file_size_in_bytes|        column_sizes|        value_counts|   null_value_counts|    nan_value_counts|        lower_bounds|        upper_bounds|key_metadata|       split_offsets|equality_ids|sort_order_id|\n",
      "+-------+--------------------+-----------+-------+---------+------------+------------------+--------------------+--------------------+--------------------+--------------------+--------------------+--------------------+------------+--------------------+------------+-------------+\n",
      "|      0|s3://pyicebergben...|    PARQUET|      0|    {480}|    13046000|         539590486|{1 -> 22854, 2 ->...|{1 -> 13046000, 2...|{1 -> 13046000, 2...|{9 -> 0, 11 -> 0,...|{32 -> \u0000\u0000\u0000\u0000\u0000\u0000\u0000\u0000, ...|{32 -> \u0000\u0000\u0000\u0000\u0000\u0000j@, ...|        null|[4, 136489562, 27...|        null|            0|\n",
      "|      0|s3://pyicebergben...|    PARQUET|      0|    {480}|     1203505|          49281544|{1 -> 2133, 2 -> ...|{1 -> 1203505, 2 ...|{1 -> 1203505, 2 ...|{9 -> 0, 11 -> 0,...|{32 -> \u0000\u0000\u0000\u0000\u0000\u0000�?, ...|{32 -> \u0000\u0000\u0000\u0000\u0000\u0000\u0018@, ...|        null|                 [4]|        null|            0|\n",
      "|      0|s3://pyicebergben...|    PARQUET|      0|    {480}|      614273|          25029733|{1 -> 1085, 2 -> ...|{1 -> 614273, 2 -...|{1 -> 614273, 2 -...|{9 -> 0, 11 -> 0,...|{32 -> \u0000\u0000\u0000\u0000\u0000\u0000�?, ...|{32 -> \u0000\u0000\u0000\u0000\u0000\u0000\u0018@, ...|        null|                 [4]|        null|            0|\n",
      "|      0|s3://pyicebergben...|    PARQUET|      0|    {481}|    11145409|         519149181|{1 -> 19530, 2 ->...|{1 -> 11145409, 2...|{1 -> 11145409, 2...|{9 -> 0, 11 -> 0,...|{32 -> \u0000\u0000\u0000\u0000\u0000\u0000\u0000\u0000, ...|{32 -> \u0000\u0000\u0000\u0000\u0000 e@, ...|        null|[4, 136025968, 27...|        null|            0|\n",
      "|      0|s3://pyicebergben...|    PARQUET|      0|    {482}|     2030265|          97680175|{1 -> 3570, 2 -> ...|{1 -> 2030265, 2 ...|{1 -> 2030265, 2 ...|{9 -> 0, 11 -> 0,...|{32 -> \u0000\u0000\u0000\u0000\u0000\u0000\u0000\u0000, ...|{32 -> \u0000\u0000\u0000\u0000\u0000\u0000\u0018@, ...|        null|                 [4]|        null|            0|\n",
      "|      0|s3://pyicebergben...|    PARQUET|      0|    {482}|    10854097|         500774540|{1 -> 19073, 2 ->...|{1 -> 10854097, 2...|{1 -> 10854097, 2...|{9 -> 0, 11 -> 0,...|{32 -> \u0000\u0000\u0000\u0000\u0000\u0000\u0000\u0000, ...|{32 -> \u0000\u0000\u0000\u0000\u0000\u0000m@, ...|        null|[4, 136405511, 27...|        null|            0|\n",
      "|      0|s3://pyicebergben...|    PARQUET|      0|    {483}|     3667995|         151149157|{1 -> 6440, 2 -> ...|{1 -> 3667995, 2 ...|{1 -> 3667995, 2 ...|{9 -> 0, 11 -> 0,...|{32 -> \u0000\u0000\u0000\u0000\u0000\u0000\u0000\u0000, ...|{32 -> \u0000\u0000\u0000\u0000\u0000\u0000j@, ...|        null|      [4, 136411607]|        null|            0|\n",
      "|      0|s3://pyicebergben...|    PARQUET|      0|    {483}|    11476995|         472600785|{1 -> 20125, 2 ->...|{1 -> 11476995, 2...|{1 -> 11476995, 2...|{9 -> 0, 11 -> 0,...|{32 -> \u0000\u0000\u0000\u0000\u0000\u0000\u0000\u0000, ...|{32 -> \u0000\u0000\u0000\u0000\u0000@o@, ...|        null|[4, 136147635, 27...|        null|            0|\n",
      "|      0|s3://pyicebergben...|    PARQUET|      0|    {484}|     2301342|          95059554|{1 -> 4058, 2 -> ...|{1 -> 2301342, 2 ...|{1 -> 2301342, 2 ...|{9 -> 0, 11 -> 0,...|{32 -> \u0000\u0000\u0000\u0000\u0000\u0000\u0000\u0000, ...|{32 -> \u0000\u0000\u0000\u0000\u0000@P@, ...|        null|                 [4]|        null|            0|\n",
      "|      0|s3://pyicebergben...|    PARQUET|      0|    {484}|    13082000|         539417286|{1 -> 22925, 2 ->...|{1 -> 13082000, 2...|{1 -> 13082000, 2...|{9 -> 0, 11 -> 0,...|{32 -> \u0000\u0000\u0000\u0000\u0000\u0000\u0000\u0000, ...|{32 -> \u0000\u0000\u0000\u0000\u0000\u0000\"@, ...|        null|[4, 136260338, 27...|        null|            0|\n",
      "+-------+--------------------+-----------+-------+---------+------------+------------------+--------------------+--------------------+--------------------+--------------------+--------------------+--------------------+------------+--------------------+------------+-------------+\n"
     ]
    }
   ],
   "source": [
    "%%sql\n",
    "\n",
    "SELECT *\n",
    "FROM iceberg.benchmark.nyc_taxi.files\n",
    "LIMIT 10;"
   ]
  },
  {
   "cell_type": "code",
   "execution_count": 30,
   "metadata": {
    "vscode": {
     "languageId": "sql"
    }
   },
   "outputs": [
    {
     "name": "stdout",
     "output_type": "stream",
     "text": [
      "+-----------+\n",
      "|total_trips|\n",
      "+-----------+\n",
      "|   20391382|\n",
      "+-----------+\n"
     ]
    }
   ],
   "source": [
    "%%sql\n",
    "\n",
    "SELECT COUNT(*) AS total_trips\n",
    "FROM iceberg.benchmark.nyc_taxi\n",
    "WHERE pickup_datetime BETWEEN '2023-04-01' AND '2023-05-01';"
   ]
  },
  {
   "cell_type": "code",
   "execution_count": 31,
   "metadata": {
    "vscode": {
     "languageId": "sql"
    }
   },
   "outputs": [
    {
     "name": "stdout",
     "output_type": "stream",
     "text": [
      "+-------------------+--------------------+--------------------+-------------------+--------------------+--------------------+---------------+\n",
      "|          vendor_id|originating_base_num|dispatching_base_num|   request_datetime|lpep_pickup_datetime|tpep_pickup_datetime|pickup_datetime|\n",
      "+-------------------+--------------------+--------------------+-------------------+--------------------+--------------------+---------------+\n",
      "|0.06585785432203141|  0.3604685170830817|  0.9341408831974377|0.49651408044713247|                 0.0|                 0.0|            1.0|\n",
      "+-------------------+--------------------+--------------------+-------------------+--------------------+--------------------+---------------+\n"
     ]
    }
   ],
   "source": [
    "%%sql\n",
    "\n",
    "-- fill rates\n",
    "SELECT\n",
    "    SUM(CASE WHEN nyc_taxi.vendor_id IS NULL THEN 0 ELSE 1 END) / COUNT(*) AS vendor_id,\n",
    "    SUM(CASE WHEN nyc_taxi.originating_base_num IS NULL THEN 0 ELSE 1 END) / COUNT(*) AS originating_base_num,\n",
    "    SUM(CASE WHEN nyc_taxi.dispatching_base_num IS NULL THEN 0 ELSE 1 END) / COUNT(*) AS dispatching_base_num,\n",
    "    SUM(CASE WHEN nyc_taxi.request_datetime IS NULL THEN 0 ELSE 1 END) / COUNT(*) AS request_datetime,\n",
    "    SUM(CASE WHEN nyc_taxi.lpep_pickup_datetime IS NULL THEN 0 ELSE 1 END) / COUNT(*) AS lpep_pickup_datetime,\n",
    "    SUM(CASE WHEN nyc_taxi.tpep_pickup_datetime IS NULL THEN 0 ELSE 1 END) / COUNT(*) AS tpep_pickup_datetime,\n",
    "    SUM(CASE WHEN nyc_taxi.pickup_datetime IS NULL THEN 0 ELSE 1 END) / COUNT(*) AS pickup_datetime\n",
    "FROM iceberg.benchmark.nyc_taxi;"
   ]
  },
  {
   "cell_type": "code",
   "execution_count": 32,
   "metadata": {
    "vscode": {
     "languageId": "sql"
    }
   },
   "outputs": [
    {
     "name": "stdout",
     "output_type": "stream",
     "text": [
      "+---------+--------------------+--------------------+--------------+\n",
      "|vendor_id|originating_base_num|dispatching_base_num|pu_location_id|\n",
      "+---------+--------------------+--------------------+--------------+\n",
      "|        3|                  67|                1333|           529|\n",
      "+---------+--------------------+--------------------+--------------+\n"
     ]
    }
   ],
   "source": [
    "%%sql\n",
    "\n",
    "-- distinct counts\n",
    "SELECT\n",
    "    COUNT(DISTINCT nyc_taxi.vendor_id) AS vendor_id,\n",
    "    COUNT(DISTINCT nyc_taxi.originating_base_num) AS originating_base_num,\n",
    "    COUNT(DISTINCT nyc_taxi.dispatching_base_num) AS dispatching_base_num,\n",
    "    COUNT(DISTINCT nyc_taxi.pu_location_id) AS pu_location_id\n",
    "FROM iceberg.benchmark.nyc_taxi;"
   ]
  },
  {
   "cell_type": "code",
   "execution_count": 14,
   "metadata": {
    "vscode": {
     "languageId": "python"
    }
   },
   "outputs": [
    {
     "name": "stdout",
     "output_type": "stream",
     "text": [
      "Stopping session: 735002b1-1aeb-4ee5-9600-0cface75fdf2\n"
     ]
    },
    {
     "name": "stdout",
     "output_type": "stream",
     "text": [
      "Stopped session.\n"
     ]
    }
   ],
   "source": [
    "%stop_session"
   ]
  }
 ],
 "metadata": {
  "kernelspec": {
   "display_name": "Glue PySpark",
   "language": "python",
   "name": "glue_pyspark"
  },
  "language_info": {
   "codemirror_mode": {
    "name": "python",
    "version": 3
   },
   "file_extension": ".py",
   "mimetype": "text/x-python",
   "name": "Python_Glue_Session",
   "pygments_lexer": "python3"
  },
  "orig_nbformat": 4
 },
 "nbformat": 4,
 "nbformat_minor": 2
}
