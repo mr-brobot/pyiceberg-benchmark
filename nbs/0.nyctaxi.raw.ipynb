{
 "cells": [
  {
   "cell_type": "code",
   "execution_count": 10,
   "metadata": {},
   "outputs": [
    {
     "name": "stdout",
     "output_type": "stream",
     "text": [
      "Previous profile: None\n",
      "Setting new profile to: cloudbend\n",
      "Setting Glue version to: 3.0\n",
      "Current iam_role is None\n",
      "iam_role has been set to arn:aws:iam::898546127587:role/GlueSessions.\n",
      "Current idle_timeout is 2880 minutes.\n",
      "idle_timeout has been set to 60 minutes.\n"
     ]
    },
    {
     "name": "stdout",
     "output_type": "stream",
     "text": [
      "Previous worker type: G.1X\n",
      "Setting new worker type to: G.1X\n",
      "Previous number of workers: 5\n",
      "Setting new number of workers to: 10\n",
      "Additional python modules to be included:\n",
      "tqdm\n"
     ]
    }
   ],
   "source": [
    "%profile \"cloudbend\"\n",
    "\n",
    "%glue_version \"3.0\"\n",
    "%iam_role \"arn:aws:iam::898546127587:role/GlueSessions\"\n",
    "%idle_timeout 60\n",
    "\n",
    "%worker_type \"G.1X\"\n",
    "%number_of_workers 10"
   ]
  },
  {
   "cell_type": "code",
   "execution_count": 1,
   "metadata": {},
   "outputs": [
    {
     "name": "stdout",
     "output_type": "stream",
     "text": [
      "Authenticating with profile=cloudbend\n",
      "glue_role_arn defined by user: arn:aws:iam::898546127587:role/GlueSessions\n",
      "Trying to create a Glue session for the kernel.\n",
      "Worker Type: G.1X\n",
      "Number of Workers: 10\n",
      "Session ID: 3ec187bb-7a86-4fb0-8dca-c2c7f39091c2\n",
      "Job Type: glueetl\n",
      "Applying the following default arguments:\n",
      "--glue_kernel_version 0.38.1\n",
      "--enable-glue-datacatalog true\n",
      "--additional-python-modules tqdm\n",
      "Waiting for session 3ec187bb-7a86-4fb0-8dca-c2c7f39091c2 to get into ready status...\n",
      "Session 3ec187bb-7a86-4fb0-8dca-c2c7f39091c2 has been created.\n",
      "\n"
     ]
    }
   ],
   "source": [
    "from pyspark.sql import SparkSession\n",
    "\n",
    "spark = SparkSession.getActiveSession()"
   ]
  },
  {
   "cell_type": "code",
   "execution_count": 2,
   "metadata": {},
   "outputs": [
    {
     "name": "stdout",
     "output_type": "stream",
     "text": [
      "431\n"
     ]
    }
   ],
   "source": [
    "import boto3\n",
    "\n",
    "s3 = boto3.client(\"s3\")\n",
    "\n",
    "# list all files\n",
    "response = s3.list_objects_v2(Bucket=\"nyc-tlc\", Prefix=\"trip data/\")\n",
    "paths = [f\"s3://nyc-tlc/{x['Key']}\" for x in response[\"Contents\"]]\n",
    "\n",
    "# only include parquet files\n",
    "paths = [x for x in paths if x.endswith(\".parquet\")]\n",
    "\n",
    "len(paths)"
   ]
  },
  {
   "cell_type": "code",
   "execution_count": 21,
   "metadata": {},
   "outputs": [
    {
     "name": "stdout",
     "output_type": "stream",
     "text": [
      "\n"
     ]
    }
   ],
   "source": [
    "from pyspark.sql.functions import col, lit\n",
    "\n",
    "bucket = \"pyicebergbenchmark-icebergbucket89dd3fa6-1qhkzajoxgpzo\"\n",
    "\n",
    "column_renames = {\n",
    "    \"pulocationid\": \"pu_location_id\",\n",
    "    \"dolocationid\": \"do_location_id\",\n",
    "    \"affiliated_base_number\": \"affiliated_base_num\",\n",
    "    \"vendorid\": \"vendor_id\",\n",
    "    \"ratecodeid\": \"rate_code_id\",\n",
    "}\n",
    "\n",
    "column_dtypes = {\n",
    "    \"pickup_datetime\": \"timestamp\",\n",
    "    \"dropoff_datetime\": \"timestamp\",\n",
    "    \"pu_location_id\": \"string\",\n",
    "    \"do_location_id\": \"string\",\n",
    "    \"trip_type\": \"string\",\n",
    "    \"dispatching_base_num\": \"string\",\n",
    "    \"affiliated_base_num\": \"string\",\n",
    "    \"rate_code_id\": \"string\",\n",
    "    \"rate_code\": \"string\",\n",
    "    \"improvement_surcharge\": \"double\",\n",
    "    \"congestion_surcharge\": \"double\",\n",
    "    \"ehail_fee\": \"double\",\n",
    "    \"vendor_id\": \"string\",\n",
    "    \"sr_flag\": \"string\",\n",
    "    \"airport_fee\": \"double\",\n",
    "    \"payment_type\": \"string\",\n",
    "    \"passenger_count\": \"double\",\n",
    "    \"wav_match_flag\": \"string\",\n",
    "}\n",
    "\n",
    "def standardize_fragment(path: str, prefix: str) -> int:\n",
    "    df = spark.read.parquet(path)\n",
    "\n",
    "    # de-duplicate columns\n",
    "    columns = [c.lower() for c in df.columns]\n",
    "    df = df.select(*list(set(columns)))\n",
    "\n",
    "    # rename columns\n",
    "    columns = [c.lower() for c in df.columns]\n",
    "    for old, new in column_renames.items():\n",
    "        if old in columns:\n",
    "            df = df.withColumnRenamed(old, new)\n",
    "\n",
    "    # normalize types\n",
    "    columns = [c.lower() for c in df.columns]\n",
    "    for column, dtype in column_dtypes.items():\n",
    "        if column in columns:\n",
    "            df = df.withColumn(column, col(column).cast(dtype))\n",
    "\n",
    "    total = df.count()\n",
    "\n",
    "    df.write.mode(\"overwrite\").parquet(f\"s3://{bucket}/raw/{prefix}/\")\n",
    "\n",
    "    return total"
   ]
  },
  {
   "cell_type": "code",
   "execution_count": 22,
   "metadata": {},
   "outputs": [
    {
     "name": "stdout",
     "output_type": "stream",
     "text": [
      "3318228997\n"
     ]
    }
   ],
   "source": [
    "from concurrent.futures import ThreadPoolExecutor\n",
    "\n",
    "with ThreadPoolExecutor() as executor:\n",
    "    totals = executor.map(\n",
    "        lambda args: standardize_fragment(*args),\n",
    "        [(path, str(i)) for i, path in enumerate(paths)]\n",
    "    )\n",
    "\n",
    "    sum(totals)"
   ]
  },
  {
   "cell_type": "code",
   "execution_count": 23,
   "metadata": {},
   "outputs": [
    {
     "name": "stdout",
     "output_type": "stream",
     "text": [
      "root\n",
      " |-- affiliated_base_num: string (nullable = true)\n",
      " |-- pickup_datetime: timestamp (nullable = true)\n",
      " |-- pu_location_id: string (nullable = true)\n",
      " |-- dispatching_base_num: string (nullable = true)\n",
      " |-- dropoff_datetime: timestamp (nullable = true)\n",
      " |-- sr_flag: string (nullable = true)\n",
      " |-- do_location_id: string (nullable = true)\n",
      " |-- access_a_ride_flag: string (nullable = true)\n",
      " |-- airport_fee: double (nullable = true)\n",
      " |-- wav_match_flag: string (nullable = true)\n",
      " |-- sales_tax: double (nullable = true)\n",
      " |-- driver_pay: double (nullable = true)\n",
      " |-- hvfhs_license_num: string (nullable = true)\n",
      " |-- originating_base_num: string (nullable = true)\n",
      " |-- base_passenger_fare: double (nullable = true)\n",
      " |-- tips: double (nullable = true)\n",
      " |-- congestion_surcharge: double (nullable = true)\n",
      " |-- on_scene_datetime: timestamp (nullable = true)\n",
      " |-- tolls: double (nullable = true)\n",
      " |-- shared_request_flag: string (nullable = true)\n",
      " |-- shared_match_flag: string (nullable = true)\n",
      " |-- request_datetime: timestamp (nullable = true)\n",
      " |-- wav_request_flag: string (nullable = true)\n",
      " |-- trip_time: long (nullable = true)\n",
      " |-- bcf: double (nullable = true)\n",
      " |-- trip_miles: double (nullable = true)\n",
      " |-- lpep_dropoff_datetime: timestamp (nullable = true)\n",
      " |-- trip_type: string (nullable = true)\n",
      " |-- fare_amount: double (nullable = true)\n",
      " |-- lpep_pickup_datetime: timestamp (nullable = true)\n",
      " |-- total_amount: double (nullable = true)\n",
      " |-- passenger_count: double (nullable = true)\n",
      " |-- store_and_fwd_flag: string (nullable = true)\n",
      " |-- payment_type: string (nullable = true)\n",
      " |-- tolls_amount: double (nullable = true)\n",
      " |-- tip_amount: double (nullable = true)\n",
      " |-- vendor_id: string (nullable = true)\n",
      " |-- trip_distance: double (nullable = true)\n",
      " |-- extra: double (nullable = true)\n",
      " |-- mta_tax: double (nullable = true)\n",
      " |-- ehail_fee: double (nullable = true)\n",
      " |-- rate_code_id: string (nullable = true)\n",
      " |-- improvement_surcharge: double (nullable = true)\n",
      " |-- surcharge: double (nullable = true)\n",
      " |-- store_and_forward: double (nullable = true)\n",
      " |-- fare_amt: double (nullable = true)\n",
      " |-- rate_code: string (nullable = true)\n",
      " |-- end_lon: double (nullable = true)\n",
      " |-- trip_dropoff_datetime: string (nullable = true)\n",
      " |-- end_lat: double (nullable = true)\n",
      " |-- total_amt: double (nullable = true)\n",
      " |-- start_lat: double (nullable = true)\n",
      " |-- trip_pickup_datetime: string (nullable = true)\n",
      " |-- tip_amt: double (nullable = true)\n",
      " |-- tolls_amt: double (nullable = true)\n",
      " |-- start_lon: double (nullable = true)\n",
      " |-- vendor_name: string (nullable = true)\n",
      " |-- dropoff_latitude: double (nullable = true)\n",
      " |-- dropoff_longitude: double (nullable = true)\n",
      " |-- pickup_latitude: double (nullable = true)\n",
      " |-- pickup_longitude: double (nullable = true)\n",
      " |-- __index_level_0__: long (nullable = true)\n",
      " |-- tpep_dropoff_datetime: timestamp (nullable = true)\n",
      " |-- tpep_pickup_datetime: timestamp (nullable = true)\n"
     ]
    }
   ],
   "source": [
    "df = (\n",
    "    spark.read\n",
    "        .option(\"mergeSchema\", \"true\")\n",
    "        .parquet(f\"s3://{bucket}/raw/*/\")\n",
    ")\n",
    "\n",
    "df.printSchema()"
   ]
  },
  {
   "cell_type": "code",
   "execution_count": 24,
   "metadata": {},
   "outputs": [
    {
     "name": "stdout",
     "output_type": "stream",
     "text": [
      "+-------------------+-------------------+--------------+--------------------+-------------------+-------+--------------+------------------+-----------+--------------+---------+----------+-----------------+--------------------+-------------------+----+--------------------+-------------------+-----+-------------------+-----------------+-------------------+----------------+---------+----+----------+---------------------+---------+-----------+--------------------+------------+---------------+------------------+------------+------------+----------+---------+-------------+-----+-------+---------+------------+---------------------+---------+-----------------+--------+---------+-------+---------------------+-------+---------+---------+--------------------+-------+---------+---------+-----------+----------------+-----------------+---------------+----------------+-----------------+---------------------+--------------------+\n",
      "|affiliated_base_num|    pickup_datetime|pu_location_id|dispatching_base_num|   dropoff_datetime|sr_flag|do_location_id|access_a_ride_flag|airport_fee|wav_match_flag|sales_tax|driver_pay|hvfhs_license_num|originating_base_num|base_passenger_fare|tips|congestion_surcharge|  on_scene_datetime|tolls|shared_request_flag|shared_match_flag|   request_datetime|wav_request_flag|trip_time| bcf|trip_miles|lpep_dropoff_datetime|trip_type|fare_amount|lpep_pickup_datetime|total_amount|passenger_count|store_and_fwd_flag|payment_type|tolls_amount|tip_amount|vendor_id|trip_distance|extra|mta_tax|ehail_fee|rate_code_id|improvement_surcharge|surcharge|store_and_forward|fare_amt|rate_code|end_lon|trip_dropoff_datetime|end_lat|total_amt|start_lat|trip_pickup_datetime|tip_amt|tolls_amt|start_lon|vendor_name|dropoff_latitude|dropoff_longitude|pickup_latitude|pickup_longitude|__index_level_0__|tpep_dropoff_datetime|tpep_pickup_datetime|\n",
      "+-------------------+-------------------+--------------+--------------------+-------------------+-------+--------------+------------------+-----------+--------------+---------+----------+-----------------+--------------------+-------------------+----+--------------------+-------------------+-----+-------------------+-----------------+-------------------+----------------+---------+----+----------+---------------------+---------+-----------+--------------------+------------+---------------+------------------+------------+------------+----------+---------+-------------+-----+-------+---------+------------+---------------------+---------+-----------------+--------+---------+-------+---------------------+-------+---------+---------+--------------------+-------+---------+---------+-----------+----------------+-----------------+---------------+----------------+-----------------+---------------------+--------------------+\n",
      "|               null|2019-02-01 00:05:18|           245|              B02867|2019-02-01 00:14:57|   null|           251|                 N|       null|          null|     0.83|      7.48|           HV0003|              B02867|               9.35| 0.0|                 0.0|2019-02-01 00:02:55|  0.0|                  Y|                N|2019-02-01 00:01:26|               N|      579|0.23|      2.45|                 null|     null|       null|                null|        null|           null|              null|        null|        null|      null|     null|         null| null|   null|     null|        null|                 null|     null|             null|    null|     null|   null|                 null|   null|     null|     null|                null|   null|     null|     null|       null|            null|             null|           null|            null|             null|                 null|                null|\n",
      "|               null|2019-02-01 00:41:29|           216|              B02879|2019-02-01 00:49:39|   null|           197|                 N|       null|          null|      0.7|      7.93|           HV0003|              B02879|               7.91| 2.0|                 0.0|2019-02-01 00:41:29|  0.0|                  N|                N|2019-02-01 00:26:08|               N|      490| 0.2|      1.71|                 null|     null|       null|                null|        null|           null|              null|        null|        null|      null|     null|         null| null|   null|     null|        null|                 null|     null|             null|    null|     null|   null|                 null|   null|     null|     null|                null|   null|     null|     null|       null|            null|             null|           null|            null|             null|                 null|                null|\n",
      "|               null|2019-02-01 00:51:34|           261|              B02510|2019-02-01 01:28:29|   null|           234|                 N|       null|          null|     3.99|     35.97|           HV0005|                null|              44.96| 0.0|                 0.0|               null|  0.0|                  N|                Y|2019-02-01 00:48:58|               N|     2159|1.12|      5.01|                 null|     null|       null|                null|        null|           null|              null|        null|        null|      null|     null|         null| null|   null|     null|        null|                 null|     null|             null|    null|     null|   null|                 null|   null|     null|     null|                null|   null|     null|     null|       null|            null|             null|           null|            null|             null|                 null|                null|\n",
      "|               null|2019-02-01 00:03:51|            87|              B02510|2019-02-01 00:07:16|   null|            87|                 N|       null|          null|     0.64|      5.39|           HV0005|                null|               7.19| 3.0|                 0.0|               null|  0.0|                  N|                Y|2019-02-01 00:02:15|               N|      179|0.18|      0.34|                 null|     null|       null|                null|        null|           null|              null|        null|        null|      null|     null|         null| null|   null|     null|        null|                 null|     null|             null|    null|     null|   null|                 null|   null|     null|     null|                null|   null|     null|     null|       null|            null|             null|           null|            null|             null|                 null|                null|\n",
      "|               null|2019-02-01 00:09:44|            87|              B02510|2019-02-01 00:39:56|   null|           198|                 N|       null|          null|     2.16|     17.07|           HV0005|                null|              24.25| 4.0|                 0.0|               null| 0.11|                  N|                Y|2019-02-01 00:06:17|               N|     1799|0.61|      6.84|                 null|     null|       null|                null|        null|           null|              null|        null|        null|      null|     null|         null| null|   null|     null|        null|                 null|     null|             null|    null|     null|   null|                 null|   null|     null|     null|                null|   null|     null|     null|       null|            null|             null|           null|            null|             null|                 null|                null|\n",
      "|               null|2019-02-01 00:59:55|           198|              B02510|2019-02-01 01:06:28|   null|           198|                 N|       null|          null|     0.51|       0.0|           HV0005|                null|               5.75| 0.0|                 0.0|               null|  0.0|                  Y|                Y|2019-02-01 00:56:01|               N|      359|0.14|      1.11|                 null|     null|       null|                null|        null|           null|              null|        null|        null|      null|     null|         null| null|   null|     null|        null|                 null|     null|             null|    null|     null|   null|                 null|   null|     null|     null|                null|   null|     null|     null|       null|            null|             null|           null|            null|             null|                 null|                null|\n",
      "|               null|2019-02-01 00:12:06|           161|              B02510|2019-02-01 00:42:13|   null|           148|                 N|       null|          null|     1.45|     14.31|           HV0005|                null|              16.39| 0.0|                 0.0|               null|  0.0|                  N|                Y|2019-02-01 00:07:17|               N|     1799|0.41|      4.53|                 null|     null|       null|                null|        null|           null|              null|        null|        null|      null|     null|         null| null|   null|     null|        null|                 null|     null|             null|    null|     null|   null|                 null|   null|     null|     null|                null|   null|     null|     null|       null|            null|             null|           null|            null|             null|                 null|                null|\n",
      "|               null|2019-02-01 00:45:35|           148|              B02510|2019-02-01 01:14:56|   null|            21|                 N|       null|          null|     2.71|     22.09|           HV0005|                null|              29.77| 0.0|                 0.0|               null| 0.72|                  N|                Y|2019-02-01 00:43:33|               N|     1739|0.76|     11.24|                 null|     null|       null|                null|        null|           null|              null|        null|        null|      null|     null|         null| null|   null|     null|        null|                 null|     null|             null|    null|     null|   null|                 null|   null|     null|     null|                null|   null|     null|     null|       null|            null|             null|           null|            null|             null|                 null|                null|\n",
      "|               null|2019-02-01 00:10:48|           226|              B02867|2019-02-01 00:20:23|   null|           260|                 N|       null|          null|     0.62|      6.51|           HV0003|              B02867|               6.99| 0.0|                 0.0|2019-02-01 00:09:33|  0.0|                  Y|                N|2019-02-01 00:00:35|               N|      574|0.17|      1.59|                 null|     null|       null|                null|        null|           null|              null|        null|        null|      null|     null|         null| null|   null|     null|        null|                 null|     null|             null|    null|     null|   null|                 null|   null|     null|     null|                null|   null|     null|     null|       null|            null|             null|           null|            null|             null|                 null|                null|\n",
      "|               null|2019-02-01 00:32:32|             7|              B02867|2019-02-01 00:40:25|   null|           223|                 N|       null|          null|     0.63|      6.01|           HV0003|              B02867|               7.05| 0.0|                 0.0|2019-02-01 00:31:21|  0.0|                  Y|                N|2019-02-01 00:29:16|               N|      474|0.18|       1.9|                 null|     null|       null|                null|        null|           null|              null|        null|        null|      null|     null|         null| null|   null|     null|        null|                 null|     null|             null|    null|     null|   null|                 null|   null|     null|     null|                null|   null|     null|     null|       null|            null|             null|           null|            null|             null|                 null|                null|\n",
      "|               null|2019-02-01 00:59:54|           129|              B02867|2019-02-01 01:09:31|   null|            70|                 N|       null|          null|     0.92|      7.77|           HV0003|              B02867|              10.36| 0.0|                 0.0|2019-02-01 00:58:45|  0.0|                  N|                N|2019-02-01 00:55:48|               N|      576|0.26|      2.74|                 null|     null|       null|                null|        null|           null|              null|        null|        null|      null|     null|         null| null|   null|     null|        null|                 null|     null|             null|    null|     null|   null|                 null|   null|     null|     null|                null|   null|     null|     null|       null|            null|             null|           null|            null|             null|                 null|                null|\n",
      "|               null|2019-02-01 00:01:11|           263|              B02764|2019-02-01 00:21:35|   null|           229|                 N|       null|          null|     2.22|     20.05|           HV0003|              B02764|               9.48| 0.0|                 0.0|2019-01-31 23:58:30|  0.0|                  N|                N|2019-01-31 23:58:20|               N|     1225|0.63|      7.91|                 null|     null|       null|                null|        null|           null|              null|        null|        null|      null|     null|         null| null|   null|     null|        null|                 null|     null|             null|    null|     null|   null|                 null|   null|     null|     null|                null|   null|     null|     null|       null|            null|             null|           null|            null|             null|                 null|                null|\n",
      "|               null|2019-02-01 00:36:22|           162|              B02764|2019-02-01 00:55:30|   null|           129|                 N|       null|          null|     2.35|     23.16|           HV0003|              B02764|              20.69| 0.0|                 0.0|2019-02-01 00:36:22| 5.76|                  N|                N|2019-02-01 00:33:43|               N|     1148|0.66|      7.21|                 null|     null|       null|                null|        null|           null|              null|        null|        null|      null|     null|         null| null|   null|     null|        null|                 null|     null|             null|    null|     null|   null|                 null|   null|     null|     null|                null|   null|     null|     null|       null|            null|             null|           null|            null|             null|                 null|                null|\n",
      "|               null|2019-02-01 00:10:09|           161|              B02914|2019-02-01 00:31:04|   null|            33|                 N|       null|          null|     1.71|     17.71|           HV0002|              B02914|              21.46|3.55|                null|               null|  0.0|                  N|                N|2019-02-01 00:05:50|               N|     1254|0.47|      6.93|                 null|     null|       null|                null|        null|           null|              null|        null|        null|      null|     null|         null| null|   null|     null|        null|                 null|     null|             null|    null|     null|   null|                 null|   null|     null|     null|                null|   null|     null|     null|       null|            null|             null|           null|            null|             null|                 null|                null|\n",
      "|               null|2019-02-01 00:57:50|           258|              B02864|2019-02-01 01:05:08|   null|           197|                 N|       null|          null|     0.75|      5.99|           HV0003|              B02864|                8.5| 0.0|                 0.0|2019-02-01 00:55:05|  0.0|                  N|                N|2019-02-01 00:54:59|               N|      438|0.21|      2.16|                 null|     null|       null|                null|        null|           null|              null|        null|        null|      null|     null|         null| null|   null|     null|        null|                 null|     null|             null|    null|     null|   null|                 null|   null|     null|     null|                null|   null|     null|     null|       null|            null|             null|           null|            null|             null|                 null|                null|\n",
      "|               null|2019-02-01 00:05:24|           255|              B02875|2019-02-01 00:17:13|   null|            17|                 N|       null|          null|     1.02|      8.53|           HV0003|              B02875|              11.51| 0.0|                 0.0|2019-02-01 00:01:00|  0.0|                  N|                N|2019-01-31 23:59:01|               N|      710|0.29|      2.92|                 null|     null|       null|                null|        null|           null|              null|        null|        null|      null|     null|         null| null|   null|     null|        null|                 null|     null|             null|    null|     null|   null|                 null|   null|     null|     null|                null|   null|     null|     null|       null|            null|             null|           null|            null|             null|                 null|                null|\n",
      "|               null|2019-02-01 00:27:38|           255|              B02875|2019-02-01 00:32:36|   null|           112|                 N|       null|          null|     0.35|      5.64|           HV0003|              B02875|               3.92| 0.0|                 0.0|2019-02-01 00:25:56|  0.0|                  Y|                N|2019-02-01 00:24:04|               N|      298| 0.1|      1.09|                 null|     null|       null|                null|        null|           null|              null|        null|        null|      null|     null|         null| null|   null|     null|        null|                 null|     null|             null|    null|     null|   null|                 null|   null|     null|     null|                null|   null|     null|     null|       null|            null|             null|           null|            null|             null|                 null|                null|\n",
      "|               null|2019-02-01 00:52:50|           234|              B02875|2019-02-01 00:56:02|   null|           137|                 N|       null|          null|     0.69|      6.11|           HV0003|              B02875|               7.81| 0.0|                 0.0|2019-02-01 00:48:04|  0.0|                  N|                N|2019-02-01 00:47:49|               N|      192| 0.2|      0.37|                 null|     null|       null|                null|        null|           null|              null|        null|        null|      null|     null|         null| null|   null|     null|        null|                 null|     null|             null|    null|     null|   null|                 null|   null|     null|     null|                null|   null|     null|     null|       null|            null|             null|           null|            null|             null|                 null|                null|\n",
      "|               null|2019-02-01 00:30:24|           163|              B02682|2019-02-01 00:59:08|   null|           256|                 N|       null|          null|     2.85|     28.99|           HV0003|              B02682|              26.34| 0.0|                 0.0|2019-02-01 00:25:24| 5.76|                  N|                N|2019-02-01 00:25:04|               N|     1724| 0.8|      8.09|                 null|     null|       null|                null|        null|           null|              null|        null|        null|      null|     null|         null| null|   null|     null|        null|                 null|     null|             null|    null|     null|   null|                 null|   null|     null|     null|                null|   null|     null|     null|       null|            null|             null|           null|            null|             null|                 null|                null|\n",
      "|               null|2019-02-01 00:35:06|           161|              B02682|2019-02-01 00:44:27|   null|           262|                 N|       null|          null|     1.97|     16.35|           HV0003|              B02682|              22.16| 0.0|                 0.0|2019-02-01 00:32:43|  0.0|                  N|                N|2019-02-01 00:32:37|               N|      561|0.55|       2.4|                 null|     null|       null|                null|        null|           null|              null|        null|        null|      null|     null|         null| null|   null|     null|        null|                 null|     null|             null|    null|     null|   null|                 null|   null|     null|     null|                null|   null|     null|     null|       null|            null|             null|           null|            null|             null|                 null|                null|\n",
      "+-------------------+-------------------+--------------+--------------------+-------------------+-------+--------------+------------------+-----------+--------------+---------+----------+-----------------+--------------------+-------------------+----+--------------------+-------------------+-----+-------------------+-----------------+-------------------+----------------+---------+----+----------+---------------------+---------+-----------+--------------------+------------+---------------+------------------+------------+------------+----------+---------+-------------+-----+-------+---------+------------+---------------------+---------+-----------------+--------+---------+-------+---------------------+-------+---------+---------+--------------------+-------+---------+---------+-----------+----------------+-----------------+---------------+----------------+-----------------+---------------------+--------------------+\n",
      "only showing top 20 rows\n"
     ]
    }
   ],
   "source": [
    "df.show()"
   ]
  },
  {
   "cell_type": "code",
   "execution_count": 12,
   "metadata": {},
   "outputs": [
    {
     "name": "stdout",
     "output_type": "stream",
     "text": [
      "Stopping session: 3ec187bb-7a86-4fb0-8dca-c2c7f39091c2\n",
      "Stopped session.\n"
     ]
    }
   ],
   "source": [
    "%stop_session"
   ]
  }
 ],
 "metadata": {
  "kernelspec": {
   "display_name": "Glue PySpark",
   "language": "python",
   "name": "glue_pyspark"
  },
  "orig_nbformat": 4
 },
 "nbformat": 4,
 "nbformat_minor": 2
}
